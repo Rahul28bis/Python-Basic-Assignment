{
  "nbformat": 4,
  "nbformat_minor": 0,
  "metadata": {
    "colab": {
      "provenance": []
    },
    "kernelspec": {
      "name": "python3",
      "display_name": "Python 3"
    },
    "language_info": {
      "name": "python"
    }
  },
  "cells": [
    {
      "cell_type": "code",
      "execution_count": null,
      "metadata": {
        "id": "EdBUkmZu84er"
      },
      "outputs": [],
      "source": [
        "#Python basic assignment"
      ]
    },
    {
      "cell_type": "markdown",
      "source": [
        "1. What is Python, and why is it popular\n",
        "- Python is a high label,interpreted and dynamically typed programming language\n",
        "  It is popular because-\n",
        "  1. It is easy to learn\n",
        "  2. versatility\n",
        "  3. rich ecosystem of library\n",
        "  4. community support\n",
        "  5. scalability\n",
        "\n",
        "2. What is an interpreter in Python?\n",
        "- An interpreter in python is a special program that read and executes python code line by line instead of compiling the whole program into machine code at once\n",
        "3. What are pre-defined keywords in Python?\n",
        "- In Python, predefined keywords (also called reserved words) are special words that have a fixed meaning and specific purpose in the language\n",
        "example- if,else,break,continue\n",
        "4. Can keywords be used as variable names?\n",
        "- No keywords cannot be used as variables in python,because they are reserved words with special meaning in the language.\n",
        "if you try to use a keywords as a variable it will throw a syntax error\n",
        "5. What is mutability in Python?\n",
        "- In python mutability refers to whether the value of an object can be changed after they created\n",
        "\n",
        "example: List, Set\n",
        "6. Why are lists mutable, but tuples are immutable?\n",
        "- A list is designed for dynamic data,we can add,remove,and modify data after creation internally,list keep references to object in a resizable array,which alows changes but in other hand tuple is designed for fixed,unchanged data once it created its content cannot be changed thats why list is a mutable and tuple is immutable data type\n",
        "7. What is the difference between “==” and “is” operators in Python?\n",
        "- In python \"==\" operator checks the value equality wheather two objects have the same value or content and is operator checks identity operator whether two object refer to the same location in memory\n",
        "8. What are logical operators in Python?\n",
        "- In python logical operators are used to combine conditional statement\n",
        "\n",
        "There are three main logical oparators\n",
        "- And: Returns true if both conditions are true otherwise return false\n",
        "- Or: returns true if atleast one condition is true and return false if only both are false\n",
        "- Not: Reverse the result if conditon is true ,it become false and vice versa\n",
        "\n",
        "9. What is type casting in Python?\n",
        "- In python type casting means converting one data type into another.\n",
        "-- There is two types of type casting\n",
        " 1. implicit type casting\n",
        " 2. explicit type casting\n",
        "\n",
        "10. What is the difference between implicit and explicit type casting?\n",
        "Implicit type casting-\n",
        "\n",
        "- it is done automatically by python\n",
        "- no manual instruction needed\n",
        "- safe conversion\n",
        "\n",
        "explicit type casting-\n",
        "- Done manullay by the programmer using built-in functions like int(),float(),str()\n",
        "- May cause data loss or errors if conversation is not possible\n",
        "- you tell python forcefully to change the type\n",
        "11. What is the purpose of conditional statements in Python?\n",
        "- The main purpose of conditional statements is to make decision in a programme. they allow python to execute certain blocks of code only when a conditon is true and skip them when it is false.\n",
        "12. How does the elif statement work?\n",
        "- The elif (else if) statement is used when you want to check multiple conditions, one after another.\n",
        "\n",
        "- Python checks conditions from top to bottom.\n",
        "\n",
        "- As soon as one condition is True, its block runs, and the rest are skipped.\n",
        "\n",
        "- If none of the conditions are True, the else block (if present) will run\n",
        "13.  What is the difference between for and while loops?\n",
        "- Both for and while are loops in python,but they are used in different situation\n",
        " - For loop used when you know in advance how many times you want to repeat and lterates over a sequence like list,string,tuple\n",
        " - while loop used when you dont know in advance how many times to repeat and runs as long as a condition is true\n",
        "\n",
        "\n",
        "14. Describe a scenario where a while loop is more suitable than a for loop\n",
        "- A while loop is more suitable when you don’t know beforehand how many times the loop should run — it depends on a condition being met during execution.\n",
        "Scenario Example: ATM PIN Verification\n",
        "\n",
        "Building an ATM program where a user must enter the correct PIN to proceed.\n",
        "\n",
        "You don’t know how many attempts they’ll take.\n",
        "\n",
        "The loop should continue until the correct PIN is entered or attempts run out.\n",
        "\n",
        "a for loop would not be ideal, because you don’t know in advance how many times the user will enter the wrong PIN.\n",
        "A while loop works perfectly since it runs until the condition is satisfied.\n"
      ],
      "metadata": {
        "id": "JrWgrwDE885e"
      }
    },
    {
      "cell_type": "code",
      "source": [
        "#1.Write a Python program to print \"Hello, World!\n",
        "print(\"hello world\")\n"
      ],
      "metadata": {
        "colab": {
          "base_uri": "https://localhost:8080/"
        },
        "id": "rxZ-2XfotYBA",
        "outputId": "3379d66c-b141-437e-d9eb-6a20c8df7107"
      },
      "execution_count": null,
      "outputs": [
        {
          "output_type": "stream",
          "name": "stdout",
          "text": [
            "hello world\n"
          ]
        }
      ]
    },
    {
      "cell_type": "code",
      "source": [
        "#2.Write a Python program that displays your name and age\n",
        "name = \"Rahul Bisaws\"\n",
        "age = 21\n",
        "print(\"My name is\", name)\n",
        "print(\"I am\", age, \"years old\")"
      ],
      "metadata": {
        "colab": {
          "base_uri": "https://localhost:8080/"
        },
        "id": "Y2RlfqUZtmTp",
        "outputId": "5b004372-8ddb-4fd4-974a-40dccc3190b3"
      },
      "execution_count": null,
      "outputs": [
        {
          "output_type": "stream",
          "name": "stdout",
          "text": [
            "My name is Rahul Bisaws\n",
            "I am 21 years old\n"
          ]
        }
      ]
    },
    {
      "cell_type": "code",
      "source": [
        "#3.Write code to print all the pre-defined keywords in Python using the keyword library\n",
        "import keyword\n",
        "print(keyword.kwlist)"
      ],
      "metadata": {
        "colab": {
          "base_uri": "https://localhost:8080/"
        },
        "id": "IZO_DrG1u9ao",
        "outputId": "90efa510-0895-4283-f0b4-14017f2f0678"
      },
      "execution_count": null,
      "outputs": [
        {
          "output_type": "stream",
          "name": "stdout",
          "text": [
            "['False', 'None', 'True', 'and', 'as', 'assert', 'async', 'await', 'break', 'class', 'continue', 'def', 'del', 'elif', 'else', 'except', 'finally', 'for', 'from', 'global', 'if', 'import', 'in', 'is', 'lambda', 'nonlocal', 'not', 'or', 'pass', 'raise', 'return', 'try', 'while', 'with', 'yield']\n"
          ]
        }
      ]
    },
    {
      "cell_type": "code",
      "source": [
        "#4. Write a program that checks if a given word is a Python keyword\n",
        "import keyword\n",
        "keywords=keyword.iskeyword\n",
        "word = input(\"enter a word: \")\n",
        "if (keywords==word):\n",
        "    print(\"this is not a keyword\")\n",
        "else:\n",
        "    print(\"this is keywords\")\n"
      ],
      "metadata": {
        "colab": {
          "base_uri": "https://localhost:8080/"
        },
        "id": "QSZhb67n0sI2",
        "outputId": "9eb38929-404f-4537-db25-d2b1759e4dfa"
      },
      "execution_count": null,
      "outputs": [
        {
          "output_type": "stream",
          "name": "stdout",
          "text": [
            "enter a word: int\n",
            "this is keywords\n"
          ]
        }
      ]
    },
    {
      "cell_type": "code",
      "source": [
        "#5. Create a list and tuple in Python, and demonstrate how attempting to change an element works differently for each\n",
        "my_list = [10, 20, 30, 40]\n",
        "print(\"Original list:\",my_list)\n",
        "#modify an element in the list\n",
        "my_list[1] = 100\n",
        "print(\"Modified List:\", my_list)\n",
        "#create a tuple\n",
        "my_tuple = (10, 20, 30, 40)\n",
        "print(\"original tuple:\", my_tuple)\n",
        "#attempt to modify an element in tuple\n",
        "try:\n",
        "  my_tuple[1] = 200\n",
        "except TypeError as e:\n",
        "  print(\"error when modifying tuple:\", e)\n"
      ],
      "metadata": {
        "colab": {
          "base_uri": "https://localhost:8080/"
        },
        "id": "uSweIgfP3jgS",
        "outputId": "ba54f224-67be-4465-b8ff-7ae1cfad45ee"
      },
      "execution_count": null,
      "outputs": [
        {
          "output_type": "stream",
          "name": "stdout",
          "text": [
            "Original list: [10, 20, 30, 40]\n",
            "Modified List: [10, 100, 30, 40]\n",
            "original tuple: (10, 20, 30, 40)\n",
            "error when modifying tuple: 'tuple' object does not support item assignment\n"
          ]
        }
      ]
    },
    {
      "cell_type": "code",
      "source": [
        "#6 Write a function to demonstrate the behavior of mutable and immutable arguments\n",
        "def modify_arguments(num, my_list):\n",
        "    # Try modifying immutable argument\n",
        "    num += 10\n",
        "   # Try modifying mutable argument\n",
        "    my_list.append(100)\n",
        "\n",
        "    print(\"Inside function:\")\n",
        "    print(\"num =\", num)\n",
        "    print(\"my_list =\", my_list)\n",
        "# Immutable (int)\n",
        "x = 5\n",
        "# Mutable (list)\n",
        "y = [1, 2, 3]\n",
        "\n",
        "print(\"Before function call:\")\n",
        "print(\"x =\", x)\n",
        "print(\"y =\", y)\n",
        "\n",
        "modify_arguments(x, y)\n",
        "\n",
        "print(\"\\nAfter function call:\")\n",
        "print(\"x =\", x)   # unchanged\n",
        "print(\"y =\", y)   # changed"
      ],
      "metadata": {
        "colab": {
          "base_uri": "https://localhost:8080/"
        },
        "id": "48QLNyz0_BqG",
        "outputId": "b6fe2f2b-1d87-4e69-83d4-bb42a39f7588"
      },
      "execution_count": null,
      "outputs": [
        {
          "output_type": "stream",
          "name": "stdout",
          "text": [
            "Before function call:\n",
            "x = 5\n",
            "y = [1, 2, 3]\n",
            "Inside function:\n",
            "num = 15\n",
            "my_list = [1, 2, 3, 100]\n",
            "\n",
            "After function call:\n",
            "x = 5\n",
            "y = [1, 2, 3, 100]\n"
          ]
        }
      ]
    },
    {
      "cell_type": "code",
      "source": [
        "#7. Write a program that performs basic arithmetic operations on two user-input numbers.\n",
        "a = float(input(\"enter first number\"))\n",
        "b = float(input(\"enter second number\"))\n",
        "print(\"addition\", a + b)\n",
        "print(\"substraction\", a - b)\n",
        "print(\"multiplication\", a * b)\n",
        "print(\"division\", a /  b)\n",
        "print(\"modulus\", a % b)\n",
        "print(\"exponentiation\", a ** b)\n"
      ],
      "metadata": {
        "colab": {
          "base_uri": "https://localhost:8080/"
        },
        "id": "_9jNf8ryJA7G",
        "outputId": "5009de42-6f83-4ed3-a762-25020a144341"
      },
      "execution_count": null,
      "outputs": [
        {
          "output_type": "stream",
          "name": "stdout",
          "text": [
            "enter first number23\n",
            "enter second number7\n",
            "addition 30.0\n",
            "substraction 16.0\n",
            "multiplication 161.0\n",
            "division 3.2857142857142856\n",
            "modulus 2.0\n",
            "exponentiation 3404825447.0\n"
          ]
        }
      ]
    },
    {
      "cell_type": "code",
      "source": [
        "#8.Write a program to demonstrate the use of logical operators\n",
        "x = int(input(\"Enter a number: \"))\n",
        "print(\"\\nDemonstrating Logical Operators:\")\n",
        "# and operator\n",
        "if x > 0 and x < 10:\n",
        "    print(\"x is a positive single-digit number\")\n",
        "# or operator\n",
        "if x < 0 or x > 100:\n",
        "    print(\"x is either negative OR greater than 100\")\n",
        "# not operator\n",
        "if not (x % 2 == 0):\n",
        "    print(\"x is an odd number\")\n",
        "else:\n",
        "    print(\"x is an even number\")"
      ],
      "metadata": {
        "colab": {
          "base_uri": "https://localhost:8080/"
        },
        "id": "TTSIWlPsLKfy",
        "outputId": "2cf935ec-79fd-423a-c8fb-d66d4cb9d154"
      },
      "execution_count": null,
      "outputs": [
        {
          "output_type": "stream",
          "name": "stdout",
          "text": [
            "Enter a number: 8\n",
            "\n",
            "Demonstrating Logical Operators:\n",
            "x is a positive single-digit number\n",
            "x is an even number\n"
          ]
        }
      ]
    },
    {
      "cell_type": "code",
      "source": [
        "#9.Write a Python program to convert user input from string to integer, float, and boolean types.\n",
        "# Program to convert user input from string to integer, float, and boolean\n",
        "\n",
        "user_input = input(\"Enter a value: \")\n",
        "\n",
        "print(\"Original input (string):\", user_input)\n",
        "\n",
        "# Convert to integer\n",
        "try:\n",
        "    int_value = int(user_input)\n",
        "    print(\"As integer:\", int_value)\n",
        "except ValueError:\n",
        "    print(\"Cannot convert to integer.\")\n",
        "\n",
        "# Convert to float\n",
        "try:\n",
        "    float_value = float(user_input)\n",
        "    print(\"As float:\", float_value)\n",
        "except ValueError:\n",
        "    print(\"Cannot convert to float.\")\n",
        "# Convert to boolean\n",
        "bool_value = bool(user_input)\n",
        "print(\"As boolean:\", bool_value)\n"
      ],
      "metadata": {
        "colab": {
          "base_uri": "https://localhost:8080/"
        },
        "id": "FhUxxwe3Pz7E",
        "outputId": "c7ea82ee-4824-4e26-9a0c-ec81c8441d19"
      },
      "execution_count": null,
      "outputs": [
        {
          "output_type": "stream",
          "name": "stdout",
          "text": [
            "Enter a value: 123\n",
            "Original input (string): 123\n",
            "As integer: 123\n",
            "As float: 123.0\n",
            "As boolean: True\n"
          ]
        }
      ]
    },
    {
      "cell_type": "code",
      "source": [
        "#10.Write code to demonstrate type casting with list elements.\n",
        "data = [\"10\", \"20\", \"30\", \"0\", \"\", \"45\"]\n",
        "print(\"Original list (strings):\", data)\n",
        "# Convert each element to integer (if possible)\n",
        "int_list = []\n",
        "for item in data:\n",
        "    try:\n",
        "        int_list.append(int(item))\n",
        "    except ValueError:\n",
        "        int_list.append(None)\n",
        "print(\"List as integers:\", int_list)\n",
        "# Convert each element to float (if possible)\n",
        "float_list = []\n",
        "for item in data:\n",
        "    try:\n",
        "        float_list.append(float(item))\n",
        "    except ValueError:\n",
        "        float_list.append(None)\n",
        "print(\"List as floats:\", float_list)\n",
        "# Convert each element to boolean\n",
        "bool_list = [bool(item) for item in data]\n",
        "print(\"List as booleans:\", bool_list)\n"
      ],
      "metadata": {
        "colab": {
          "base_uri": "https://localhost:8080/"
        },
        "id": "PQwRxc1tQ7gI",
        "outputId": "e8b2da6a-b357-4ad6-d8d5-920233f550fb"
      },
      "execution_count": null,
      "outputs": [
        {
          "output_type": "stream",
          "name": "stdout",
          "text": [
            "Original list (strings): ['10', '20', '30', '0', '', '45']\n",
            "List as integers: [10, 20, 30, 0, None, 45]\n",
            "List as floats: [10.0, 20.0, 30.0, 0.0, None, 45.0]\n",
            "List as booleans: [True, True, True, True, False, True]\n"
          ]
        }
      ]
    },
    {
      "cell_type": "code",
      "source": [
        "#11. Write a program that checks if a number is positive, negative, or zero.\n",
        "num = float(input(\"Enter a number: \"))\n",
        "# Check the number\n",
        "if num > 0:\n",
        "    print(\"The number is positive.\")\n",
        "elif num < 0:\n",
        "    print(\"The number is negative.\")\n",
        "else:\n",
        "    print(\"The number is zero.\")\n"
      ],
      "metadata": {
        "colab": {
          "base_uri": "https://localhost:8080/"
        },
        "id": "atZkElZpSDnm",
        "outputId": "6045819f-3e6e-41c9-9c66-637b1bf12b55"
      },
      "execution_count": null,
      "outputs": [
        {
          "output_type": "stream",
          "name": "stdout",
          "text": [
            "Enter a number: 7\n",
            "The number is positive.\n"
          ]
        }
      ]
    },
    {
      "cell_type": "code",
      "source": [
        "#12.Write a for loop to print numbers from 1 to 10\n",
        "for i in range(1, 11):\n",
        "    print(i)"
      ],
      "metadata": {
        "colab": {
          "base_uri": "https://localhost:8080/"
        },
        "id": "l6xK7B1eTjL1",
        "outputId": "2c69e38a-75a6-4ac9-f506-d878342bfadb"
      },
      "execution_count": null,
      "outputs": [
        {
          "output_type": "stream",
          "name": "stdout",
          "text": [
            "1\n",
            "2\n",
            "3\n",
            "4\n",
            "5\n",
            "6\n",
            "7\n",
            "8\n",
            "9\n",
            "10\n"
          ]
        }
      ]
    },
    {
      "cell_type": "code",
      "source": [
        " #13.Write a Python program to find the sum of all even numbers between 1 and 50.\n",
        "a = 0\n",
        "for num in range(1, 51):\n",
        "    if num % 2 == 0:\n",
        "        a += num\n",
        "\n",
        "print(\"The sum of all even numbers between 1 and 50 is:\", a)\n"
      ],
      "metadata": {
        "colab": {
          "base_uri": "https://localhost:8080/"
        },
        "id": "DGnQL7w2TxoI",
        "outputId": "3723d0b5-fb6a-4966-9ec8-333a0b67e852"
      },
      "execution_count": null,
      "outputs": [
        {
          "output_type": "stream",
          "name": "stdout",
          "text": [
            "The sum of all even numbers between 1 and 50 is: 650\n"
          ]
        }
      ]
    },
    {
      "cell_type": "code",
      "source": [
        "#14.Write a program to reverse a string using a while loop.\n",
        "original_string = input(\"Enter a string: \")\n",
        "reversed_string = \"\"\n",
        "index = len(original_string) - 1\n",
        "while index >= 0:\n",
        "    reversed_string += original_string[index]\n",
        "    index -= 1\n",
        "print(\"Reversed string:\", reversed_string)\n"
      ],
      "metadata": {
        "colab": {
          "base_uri": "https://localhost:8080/"
        },
        "id": "OCwAJKufUTNr",
        "outputId": "52c99148-5bb9-4649-cc72-716f40b9c08e"
      },
      "execution_count": null,
      "outputs": [
        {
          "output_type": "stream",
          "name": "stdout",
          "text": [
            "Enter a string: Rahul Biswas\n",
            "Reversed string: sawsiB luhaR\n"
          ]
        }
      ]
    },
    {
      "cell_type": "code",
      "source": [
        "#15.Write a Python program to calculate the factorial of a number provided by the user using a while loop.\n",
        "num = int(input(\"Enter a non-negative integer: \"))\n",
        "if num < 0:\n",
        "    print(\"Factorial is not defined for negative numbers.\")\n",
        "else:\n",
        "    factorial = 1\n",
        "    i = 1\n",
        "\n",
        "    while i <= num:\n",
        "        factorial *= i\n",
        "        i += 1\n",
        "\n",
        "    print(f\"The factorial of {num} is {factorial}\")\n",
        "\n"
      ],
      "metadata": {
        "colab": {
          "base_uri": "https://localhost:8080/"
        },
        "id": "CeofqjnMVAjr",
        "outputId": "b8dc37f2-9419-4d9a-a5f7-996586afbbe0"
      },
      "execution_count": null,
      "outputs": [
        {
          "output_type": "stream",
          "name": "stdout",
          "text": [
            "Enter a non-negative integer: 7\n",
            "The factorial of 7 is 5040\n"
          ]
        }
      ]
    },
    {
      "cell_type": "code",
      "source": [],
      "metadata": {
        "id": "49GpF4bSV_k-"
      },
      "execution_count": null,
      "outputs": []
    }
  ]
}